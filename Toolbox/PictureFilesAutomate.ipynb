{
 "cells": [
  {
   "cell_type": "markdown",
   "id": "39091c87",
   "metadata": {},
   "source": [
    "# anything to .webp"
   ]
  },
  {
   "cell_type": "code",
   "execution_count": 1,
   "id": "be487b98",
   "metadata": {},
   "outputs": [],
   "source": [
    "from PIL import Image, ImageOps\n",
    "\n",
    "def convert_to_webp(input_image_path, output_image_path, quality=0.2):\n",
    "    \"\"\"\n",
    "    Convertit une image en format WebP en corrigeant l'orientation à l'aide des métadonnées EXIF, si nécessaire.\n",
    "\n",
    "    :param input_image_path: Chemin de l'image d'entrée (JPEG, PNG, etc.)\n",
    "    :param output_image_path: Chemin pour l'image de sortie WebP\n",
    "    :param quality: Qualité de la conversion (1-100). Plus la qualité est basse, plus le fichier sera léger.\n",
    "    \"\"\"\n",
    "    try:\n",
    "        # Ouvre l'image\n",
    "        image = Image.open(input_image_path)\n",
    "        \n",
    "        # Appliquer la correction de l'orientation si nécessaire (métadonnées EXIF)\n",
    "        image = ImageOps.exif_transpose(image)\n",
    "\n",
    "        # Sauvegarde l'image au format WebP avec la qualité spécifiée\n",
    "        image.save(output_image_path, 'webp', quality=quality)\n",
    "        print(f\"Image convertie avec succès en {output_image_path} avec une qualité de {quality}.\")\n",
    "    \n",
    "    except Exception as e:\n",
    "        print(f\"Erreur lors de la conversion: {e}\")\n"
   ]
  },
  {
   "cell_type": "markdown",
   "id": "56a99844",
   "metadata": {},
   "source": [
    "# Deteling all non-jpg file"
   ]
  },
  {
   "cell_type": "code",
   "execution_count": 2,
   "id": "1bd1b226",
   "metadata": {},
   "outputs": [],
   "source": [
    "import glob\n",
    "import os\n",
    "\n",
    "def get_jpg_files(directory):\n",
    "    # Recherche les fichiers avec extension .jpg ou .JPG dans le dossier\n",
    "    jpg_files = glob.glob(os.path.join(directory, \"*.jpg\")) + glob.glob(os.path.join(directory, \"*.JPG\"))\n",
    "    \n",
    "    # Récupérer tous les fichiers dans le dossier\n",
    "    all_files = os.listdir(directory)\n",
    "\n",
    "    for file in all_files:\n",
    "        # Vérifie si le fichier n'est pas un .jpg ou .JPG\n",
    "        if not file.lower().endswith('.jpg'):\n",
    "            # Supprime le fichier\n",
    "            os.remove(os.path.join(directory, file))\n",
    "            print(f\"Supprimé : {file}\")\n",
    "    \n",
    "    return jpg_files"
   ]
  },
  {
   "cell_type": "markdown",
   "id": "008d2e95",
   "metadata": {},
   "source": [
    "# Sum of the 2"
   ]
  },
  {
   "cell_type": "code",
   "execution_count": null,
   "id": "7d63d68c-9a73-462b-b094-21bfe56aa72c",
   "metadata": {},
   "outputs": [],
   "source": [
    "the_file = \"file_name\"\n",
    "\n",
    "jpg_files = get_jpg_files(f\"path/{the_file}/en_jpg\")\n",
    "\n",
    "for jpg_file in jpg_files:\n",
    "         \n",
    "    \n",
    "    file_path = jpg_file\n",
    "\n",
    "    # Récupérer uniquement le nom du fichier (avec extension)\n",
    "    file_name_with_ext = os.path.basename(file_path)\n",
    "\n",
    "    # Récupérer le nom sans extension et remplacer l'extension par .webp\n",
    "    file_name_without_ext = os.path.splitext(file_name_with_ext)[0]\n",
    "    webp_file_name = file_name_without_ext + \".webp\"\n",
    "    \n",
    "    \n",
    "    webp_path = jpg_file.replace(\".jpg\", \".webp\").replace(\".JPG\", \".webp\")\n",
    "    \n",
    "    convert_to_webp(jpg_file,f\"your_path/{the_file}/{webp_file_name}\",5 )"
   ]
  },
  {
   "cell_type": "markdown",
   "id": "4aaed6a6",
   "metadata": {},
   "source": [
    "# Rename JPG to jpg"
   ]
  },
  {
   "cell_type": "code",
   "execution_count": null,
   "id": "025e50a6",
   "metadata": {},
   "outputs": [],
   "source": [
    "import os\n",
    "\n",
    "# Spécifiez le chemin du dossier contenant les fichiers à renommer\n",
    "folder_path = 'your_path'\n",
    "# Parcours de tous les fichiers dans le dossier\n",
    "for filename in os.listdir(folder_path):\n",
    "    # Vérifier si le fichier se termine par \".JPG\"\n",
    "    if filename.endswith(\".JPG\"):\n",
    "        # Construire les chemins complets\n",
    "        old_file = os.path.join(folder_path, filename)\n",
    "        new_file = os.path.join(folder_path, filename.replace(\".JPG\", \".jpg\"))\n",
    "        \n",
    "        # Renommer le fichier\n",
    "        os.rename(old_file, new_file)\n",
    "        print(f'Renommé : {old_file} -> {new_file}')"
   ]
  }
 ],
 "metadata": {
  "kernelspec": {
   "display_name": "Python 3 (ipykernel)",
   "language": "python",
   "name": "python3"
  },
  "language_info": {
   "codemirror_mode": {
    "name": "ipython",
    "version": 3
   },
   "file_extension": ".py",
   "mimetype": "text/x-python",
   "name": "python",
   "nbconvert_exporter": "python",
   "pygments_lexer": "ipython3",
   "version": "3.12.7"
  }
 },
 "nbformat": 4,
 "nbformat_minor": 5
}
